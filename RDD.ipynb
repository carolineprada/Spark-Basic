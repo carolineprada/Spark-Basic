{
 "cells": [
  {
   "cell_type": "code",
   "execution_count": 1,
   "id": "3342928c",
   "metadata": {},
   "outputs": [],
   "source": [
    "import findspark\n",
    "findspark.init()\n",
    "\n",
    "from pyspark import SparkContext\n",
    "#Objetos que dan formato al dataframe\n",
    "from pyspark.sql.types import StructType, StructField\n",
    "from pyspark.sql.types import IntegerType, StringType, FloatType\n",
    "from pyspark.sql.types import Row\n",
    "from pyspark.sql import SQLContext"
   ]
  },
  {
   "cell_type": "code",
   "execution_count": 2,
   "id": "c5700cdf",
   "metadata": {},
   "outputs": [],
   "source": [
    "sc = SparkContext(master=\"local\", appName=\"tranfYAcc\")"
   ]
  },
  {
   "cell_type": "code",
   "execution_count": 26,
   "id": "dacf8d13",
   "metadata": {},
   "outputs": [
    {
     "name": "stderr",
     "output_type": "stream",
     "text": [
      "A:\\Instal_python\\lib\\site-packages\\pyspark\\sql\\context.py:77: FutureWarning: Deprecated in 3.0.0. Use SparkSession.builder.getOrCreate() instead.\n",
      "  warnings.warn(\n"
     ]
    }
   ],
   "source": [
    "#Se llama\n",
    "sqlContext = SQLContext(sc)"
   ]
  },
  {
   "cell_type": "code",
   "execution_count": 3,
   "id": "75cb9d24",
   "metadata": {},
   "outputs": [
    {
     "data": {
      "text/plain": [
       "pyspark.rdd.RDD"
      ]
     },
     "execution_count": 3,
     "metadata": {},
     "output_type": "execute_result"
    }
   ],
   "source": [
    "rddl = sc.parallelize([1,2,3])\n",
    "type(rddl)"
   ]
  },
  {
   "cell_type": "code",
   "execution_count": 4,
   "id": "18b21a1e",
   "metadata": {},
   "outputs": [
    {
     "data": {
      "text/plain": [
       "[1, 2, 3]"
      ]
     },
     "execution_count": 4,
     "metadata": {},
     "output_type": "execute_result"
    }
   ],
   "source": [
    "#Visualizar Datos\n",
    "rddl.collect()"
   ]
  },
  {
   "cell_type": "code",
   "execution_count": 5,
   "id": "05104e68",
   "metadata": {},
   "outputs": [],
   "source": [
    "var = \"C:/Users/Caroline/Videos/curso-apache-spark-platzi/files/\"\n",
    "\n",
    "prubRDD = sc.textFile(var+\"paises.csv\").map(lambda line : line.split(\",\"))"
   ]
  },
  {
   "cell_type": "code",
   "execution_count": 6,
   "id": "a70e13b1",
   "metadata": {},
   "outputs": [
    {
     "data": {
      "text/plain": [
       "[['id', 'equipo', 'sigla'],\n",
       " ['1', '30. Februar', 'AUT'],\n",
       " ['2', 'A North American Team', 'MEX'],\n",
       " ['3', 'Acipactli', 'MEX'],\n",
       " ['4', 'Acturus', 'ARG'],\n",
       " ['5', 'Afghanistan', 'AFG'],\n",
       " ['6', 'Akatonbo', 'IRL'],\n",
       " ['7', 'Alain IV', 'SUI'],\n",
       " ['8', 'Albania', 'ALB'],\n",
       " ['9', 'Alcaid', 'POR'],\n",
       " ['10', 'Alcyon-6', 'FRA'],\n",
       " ['11', 'Alcyon-7', 'FRA'],\n",
       " ['12', 'Aldebaran', 'ITA'],\n",
       " ['13', 'Aldebaran II', 'ITA'],\n",
       " ['14', 'Aletta', 'IRL']]"
      ]
     },
     "execution_count": 6,
     "metadata": {},
     "output_type": "execute_result"
    }
   ],
   "source": [
    "#Ver datos\n",
    "prubRDD.take(15)"
   ]
  },
  {
   "cell_type": "code",
   "execution_count": 7,
   "id": "8c1e08fd",
   "metadata": {},
   "outputs": [
    {
     "data": {
      "text/plain": [
       "231"
      ]
     },
     "execution_count": 7,
     "metadata": {},
     "output_type": "execute_result"
    }
   ],
   "source": [
    "#CONTAR\n",
    "#Seleccionar columna e ingresarlo en una columna\n",
    "#Se usa distinct para evitar duplicados\n",
    "prubRDD.map(lambda x: (x[2])).distinct().count()"
   ]
  },
  {
   "cell_type": "code",
   "execution_count": 8,
   "id": "7ccfacde",
   "metadata": {},
   "outputs": [
    {
     "data": {
      "text/plain": [
       "[('sigla', 1), ('AUT', 11), ('MEX', 9), ('ARG', 18), ('AFG', 1)]"
      ]
     },
     "execution_count": 8,
     "metadata": {},
     "output_type": "execute_result"
    }
   ],
   "source": [
    "#GROUP BY\n",
    "#Se invierte el valor, para que agrupe por equipo y no por llave valor\n",
    "#Se debe agrupar con llave\n",
    "#Take: Ver pocos datos de todo el conjunto\n",
    "prubRDD.map(lambda x : (x[2],x[1])).groupByKey().mapValues(len).take(5)"
   ]
  },
  {
   "cell_type": "code",
   "execution_count": 9,
   "id": "f5fcf140",
   "metadata": {},
   "outputs": [
    {
     "data": {
      "text/plain": [
       "[['2', 'A North American Team', 'MEX'],\n",
       " ['3', 'Acipactli', 'MEX'],\n",
       " ['193', 'Chamukina', 'MEX'],\n",
       " ['656', 'Mexico', 'MEX'],\n",
       " ['657', 'Mexico-1', 'MEX'],\n",
       " ['658', 'Mexico-2', 'MEX'],\n",
       " ['700', 'Nausikaa 4', 'MEX'],\n",
       " ['1053', 'Tlaloc', 'MEX'],\n",
       " ['1168', 'Xolotl', 'MEX']]"
      ]
     },
     "execution_count": 9,
     "metadata": {},
     "output_type": "execute_result"
    }
   ],
   "source": [
    "#Filtrar valores\n",
    "#Collect --> Consulta total y puede sobrecargar los clústeres\n",
    "#Equipos México\n",
    "eqmex = prubRDD.filter(lambda l : \"MEX\" in l)\n",
    "eqmex.collect()"
   ]
  },
  {
   "cell_type": "code",
   "execution_count": 10,
   "id": "f3a23178",
   "metadata": {},
   "outputs": [
    {
     "data": {
      "text/plain": [
       "1185"
      ]
     },
     "execution_count": 10,
     "metadata": {},
     "output_type": "execute_result"
    }
   ],
   "source": [
    "#count --> Hace el conteo total de todos los datos del archivo\n",
    "#countApprox --> Cuenta la cantidad de registros recuperados en milisegundos\n",
    "prubRDD.countApprox(20)"
   ]
  },
  {
   "cell_type": "code",
   "execution_count": 11,
   "id": "258ddd88",
   "metadata": {},
   "outputs": [],
   "source": [
    "#Importar datos\n",
    "deporrRDD = sc.textFile(var+\"deportista.csv\").map(lambda line : line.split(\",\"))\n",
    "deporrRDD2 = sc.textFile(var+\"deportista2.csv\").map(lambda line : line.split(\",\"))"
   ]
  },
  {
   "cell_type": "code",
   "execution_count": 12,
   "id": "1070e3e3",
   "metadata": {},
   "outputs": [],
   "source": [
    "#Union de los datos\n",
    "deporrRDD  = deporrRDD.union(deporrRDD2)"
   ]
  },
  {
   "cell_type": "code",
   "execution_count": null,
   "id": "698c6dc5",
   "metadata": {},
   "outputs": [],
   "source": [
    "#Top\n",
    "prubRDD.top(2)"
   ]
  },
  {
   "cell_type": "code",
   "execution_count": null,
   "id": "0431ca8c",
   "metadata": {},
   "outputs": [],
   "source": [
    "deporrRDD.top(2)"
   ]
  },
  {
   "cell_type": "code",
   "execution_count": 13,
   "id": "544c0db7",
   "metadata": {},
   "outputs": [
    {
     "data": {
      "text/plain": [
       "[('199', (['1', 'A Dijiang', '1', '24', '180', '80'], 'CHN')),\n",
       " ('199', (['2', 'A Lamusi', '1', '23', '170', '60'], 'CHN')),\n",
       " ('199', (['602', 'Abudoureheman', '1', '22', '182', '75'], 'CHN')),\n",
       " ('199', (['1463', 'Ai Linuer', '1', '25', '160', '62'], 'CHN')),\n",
       " ('199', (['1464', 'Ai Yanhan', '2', '14', '168', '54'], 'CHN'))]"
      ]
     },
     "execution_count": 13,
     "metadata": {},
     "output_type": "execute_result"
    }
   ],
   "source": [
    "#Hacer un Join\n",
    "#Seleccionar campo clave del primer RDD\n",
    "#Hacer Join con campo clave del segundo RDD\n",
    "deporrRDD.map(lambda l: [l[-1], l[:-1]]).join(prubRDD.map(lambda x: [x[0],x[2]])).take(5)"
   ]
  },
  {
   "cell_type": "code",
   "execution_count": 14,
   "id": "57c67352",
   "metadata": {},
   "outputs": [
    {
     "data": {
      "text/plain": [
       "[('362', (['131505', 'Steven Woodburn', '1', '24', '185', '90'], 'FRA')),\n",
       " ('967', (['13626', 'Jill Brresen', '2', '22', '170', '57'], 'RSA')),\n",
       " ('482', (['44299', 'Gumundur Gumundsson', '1', '23', '174', '77'], 'ISL')),\n",
       " ('970', (['68062', 'Lee MinHui', '2', '28', '174', '65'], 'KOR')),\n",
       " ('794', (['92442', 'Luis Paz Zoldan', '1', '19', '187', '82'], 'PER')),\n",
       " ('413', (['26822', 'Jared Mark Deacon', '1', '24', '185', '77'], 'GBR'))]"
      ]
     },
     "execution_count": 14,
     "metadata": {},
     "output_type": "execute_result"
    }
   ],
   "source": [
    "#Hacer un Join\n",
    "#Seleccionar campo clave del primer RDD\n",
    "#Hacer Join con campo clave del segundo RDD\n",
    "#takeSample --> Muetra aleatoria\n",
    "deporrRDD.map(lambda l: [l[-1], l[:-1]]).join(prubRDD.map(lambda x: [x[0],x[2]])).takeSample(False,6,25)"
   ]
  },
  {
   "cell_type": "code",
   "execution_count": 15,
   "id": "50600e61",
   "metadata": {},
   "outputs": [],
   "source": [
    "result = sc.textFile(var+\"resultados.csv\").map(lambda line : line.split(\",\"))"
   ]
  },
  {
   "cell_type": "code",
   "execution_count": 16,
   "id": "0a9fcb60",
   "metadata": {},
   "outputs": [],
   "source": [
    "#Eliminar datos\n",
    "resultG = result.filter(lambda l: \"NA\" not in l[1])"
   ]
  },
  {
   "cell_type": "code",
   "execution_count": null,
   "id": "e79d228e",
   "metadata": {},
   "outputs": [],
   "source": [
    "resultG.take(2)"
   ]
  },
  {
   "cell_type": "code",
   "execution_count": null,
   "id": "a105ba20",
   "metadata": {},
   "outputs": [],
   "source": [
    "deporrRDD.top(2)"
   ]
  },
  {
   "cell_type": "code",
   "execution_count": 17,
   "id": "2caac685",
   "metadata": {},
   "outputs": [],
   "source": [
    "#Se realiza el Join de datos\n",
    "deporPais = deporrRDD.map(lambda l : [l[-1], l[:-1]]).join(prubRDD.map(lambda x: [x[0], x[2]]))"
   ]
  },
  {
   "cell_type": "code",
   "execution_count": null,
   "id": "71815fff",
   "metadata": {},
   "outputs": [],
   "source": [
    "deporPais.top(2)"
   ]
  },
  {
   "cell_type": "code",
   "execution_count": 18,
   "id": "d93381a0",
   "metadata": {},
   "outputs": [
    {
     "data": {
      "text/plain": [
       "[('74',\n",
       "  ((['65', 'Patimat Abakarova', '2', '21', '165', '49'], 'AZE'), 'Gold')),\n",
       " ('74', ((['129', 'Ruslan Abbasov', '1', '22', '181', '74'], 'AZE'), 'Gold'))]"
      ]
     },
     "execution_count": 18,
     "metadata": {},
     "output_type": "execute_result"
    }
   ],
   "source": [
    "deporPais.join(resultG).take(2)"
   ]
  },
  {
   "cell_type": "code",
   "execution_count": 19,
   "id": "b0299516",
   "metadata": {},
   "outputs": [],
   "source": [
    "#Función para validar el encabezado\n",
    "#Iter: Devuelve valor a valor lo que se está procesando\n",
    "def deletHeader(indice, interador):\n",
    "    return iter(list(interador)[1:])"
   ]
  },
  {
   "cell_type": "code",
   "execution_count": 20,
   "id": "f3ee7c3b",
   "metadata": {},
   "outputs": [],
   "source": [
    "#Eliminar el encabezado\n",
    "deporrRDD = deporrRDD.mapPartitionsWithIndex(deletHeader)"
   ]
  },
  {
   "cell_type": "code",
   "execution_count": 21,
   "id": "c862ce47",
   "metadata": {},
   "outputs": [
    {
     "data": {
      "text/plain": [
       "[['1', 'A Dijiang', '1', '24', '180', '80', '199'],\n",
       " ['2', 'A Lamusi', '1', '23', '170', '60', '199'],\n",
       " ['3', 'Gunnar Nielsen Aaby', '1', '24', '0', '0', '273'],\n",
       " ['4', 'Edgar Lindenau Aabye', '1', '34', '0', '0', '278']]"
      ]
     },
     "execution_count": 21,
     "metadata": {},
     "output_type": "execute_result"
    }
   ],
   "source": [
    "deporrRDD.take(4)"
   ]
  },
  {
   "cell_type": "code",
   "execution_count": 22,
   "id": "78341b95",
   "metadata": {},
   "outputs": [],
   "source": [
    "#Antes de Tramsformar los datos del RDD, se debe transformar el tipo de dato\n",
    "deporrRDD = deporrRDD.map(lambda l: (\n",
    "int(l[0]),\n",
    "l[1],    \n",
    "int(l[2]),\n",
    "int(l[3]),\n",
    "int(l[4]),\n",
    "float(l[5]),\n",
    "int(l[6])\n",
    "))"
   ]
  },
  {
   "cell_type": "code",
   "execution_count": 24,
   "id": "fd90bddd",
   "metadata": {},
   "outputs": [],
   "source": [
    "#Se crear el Schema\n",
    "depor = StructType([\n",
    "    StructField(\"deportista_id\", IntegerType(), False),\n",
    "    StructField(\"nombre\", StringType(), False),\n",
    "    StructField(\"genero\", IntegerType(), False),\n",
    "    StructField(\"edad\", IntegerType(), False),\n",
    "    StructField(\"altura\", IntegerType(), False),\n",
    "    StructField(\"peso\", FloatType(), False),\n",
    "    StructField(\"equipo_id\", IntegerType(), False)\n",
    "])"
   ]
  },
  {
   "cell_type": "code",
   "execution_count": 28,
   "id": "b7b0cb3e",
   "metadata": {},
   "outputs": [
    {
     "name": "stdout",
     "output_type": "stream",
     "text": [
      "+-------------+--------------------+------+----+------+----+---------+\n",
      "|deportista_id|              nombre|genero|edad|altura|peso|equipo_id|\n",
      "+-------------+--------------------+------+----+------+----+---------+\n",
      "|            1|           A Dijiang|     1|  24|   180|80.0|      199|\n",
      "|            2|            A Lamusi|     1|  23|   170|60.0|      199|\n",
      "|            3| Gunnar Nielsen Aaby|     1|  24|     0| 0.0|      273|\n",
      "|            4|Edgar Lindenau Aabye|     1|  34|     0| 0.0|      278|\n",
      "|            5|Christine Jacoba ...|     2|  21|   185|82.0|      705|\n",
      "+-------------+--------------------+------+----+------+----+---------+\n",
      "only showing top 5 rows\n",
      "\n"
     ]
    }
   ],
   "source": [
    "#Aplicar el esquema al RDD\n",
    "sqlContext.createDataFrame(deporrRDD, depor)"
   ]
  },
  {
   "cell_type": "code",
   "execution_count": null,
   "id": "19d5d577",
   "metadata": {},
   "outputs": [],
   "source": []
  }
 ],
 "metadata": {
  "kernelspec": {
   "display_name": "Python 3 (ipykernel)",
   "language": "python",
   "name": "python3"
  },
  "language_info": {
   "codemirror_mode": {
    "name": "ipython",
    "version": 3
   },
   "file_extension": ".py",
   "mimetype": "text/x-python",
   "name": "python",
   "nbconvert_exporter": "python",
   "pygments_lexer": "ipython3",
   "version": "3.9.13"
  }
 },
 "nbformat": 4,
 "nbformat_minor": 5
}
