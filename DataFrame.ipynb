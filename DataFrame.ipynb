{
 "cells": [
  {
   "cell_type": "code",
   "execution_count": 1,
   "id": "3c44e318",
   "metadata": {},
   "outputs": [],
   "source": [
    "import findspark\n",
    "findspark.init()\n",
    "\n",
    "from pyspark import SparkContext"
   ]
  },
  {
   "cell_type": "code",
   "execution_count": 2,
   "id": "f8494f98",
   "metadata": {},
   "outputs": [],
   "source": [
    "from pyspark.sql import SparkSession\n",
    "\n",
    "#Objetos que dan formato al dataframe\n",
    "from pyspark.sql.types import StructType, StructField\n",
    "from pyspark.sql.types import IntegerType, StringType, FloatType\n",
    "from pyspark.sql.types import Row\n",
    "from pyspark.sql import SQLContext"
   ]
  },
  {
   "cell_type": "code",
   "execution_count": 3,
   "id": "72eec896",
   "metadata": {},
   "outputs": [],
   "source": [
    "#Se crea el punto de conexión de Spark\n",
    "sc = SparkContext(master=\"local\", appName=\"DataFrames\")"
   ]
  },
  {
   "cell_type": "code",
   "execution_count": 4,
   "id": "bfcca867",
   "metadata": {},
   "outputs": [
    {
     "name": "stderr",
     "output_type": "stream",
     "text": [
      "A:\\Instal_python\\lib\\site-packages\\pyspark\\sql\\context.py:77: FutureWarning: Deprecated in 3.0.0. Use SparkSession.builder.getOrCreate() instead.\n",
      "  warnings.warn(\n"
     ]
    }
   ],
   "source": [
    "#Se llama\n",
    "sqlContext = SQLContext(sc)"
   ]
  },
  {
   "cell_type": "code",
   "execution_count": null,
   "id": "c7118975",
   "metadata": {},
   "outputs": [],
   "source": [
    "spark.stop()"
   ]
  },
  {
   "cell_type": "code",
   "execution_count": 5,
   "id": "f4eecc4a",
   "metadata": {},
   "outputs": [],
   "source": [
    "#Ruta donde se encuentra el archivo a trabajar\n",
    "var = \"C:/Users/Caroline/Videos/curso-apache-spark-platzi/files/\"\n",
    "\n",
    "file = sc.textFile(var+\"juegos.csv\").map(lambda line : line.split(\",\"))"
   ]
  },
  {
   "cell_type": "code",
   "execution_count": 6,
   "id": "4da73648",
   "metadata": {},
   "outputs": [
    {
     "data": {
      "text/plain": [
       "[['', 'nombre_juego', 'annio', 'temporada', 'ciudad'],\n",
       " ['1', '1896 Verano', '1896', 'Verano', 'Athina']]"
      ]
     },
     "execution_count": 6,
     "metadata": {},
     "output_type": "execute_result"
    }
   ],
   "source": [
    "#Ver Datos\n",
    "file.take(2)"
   ]
  },
  {
   "cell_type": "code",
   "execution_count": 7,
   "id": "16169c20",
   "metadata": {},
   "outputs": [],
   "source": [
    "#CREAR SCHEMA\n",
    "#Para Cargar los datos, primero se debe crear un esquema\n",
    "#StructType --> Esqueleto de la tabla\n",
    "#StructField --> Columnas\n",
    "juegoSchema = StructType([\n",
    "    StructField(\"juego_id\", IntegerType(), False),\n",
    "    StructField(\"nombre_juego\", StringType(), False),\n",
    "    StructField(\"annio\", StringType(), False),\n",
    "    StructField(\"temporada\", StringType(), False),\n",
    "    StructField(\"ciudad\", StringType(), False)\n",
    "])"
   ]
  },
  {
   "cell_type": "code",
   "execution_count": 8,
   "id": "9dc3eb22",
   "metadata": {},
   "outputs": [],
   "source": [
    "#Leer Estructura del DataFrame\n",
    "juegoDF = sqlContext.read.schema(juegoSchema).option(\"header\", \"true\").csv(file)"
   ]
  },
  {
   "cell_type": "code",
   "execution_count": 9,
   "id": "a9ed1703",
   "metadata": {},
   "outputs": [
    {
     "name": "stdout",
     "output_type": "stream",
     "text": [
      "+--------+--------------+-------+---------+-------------+\n",
      "|juego_id|  nombre_juego|  annio|temporada|       ciudad|\n",
      "+--------+--------------+-------+---------+-------------+\n",
      "|       0| '1896 Verano'| '1896'| 'Verano'|    'Athina']|\n",
      "|       0| '1900 Verano'| '1900'| 'Verano'|     'Paris']|\n",
      "|       0| '1904 Verano'| '1904'| 'Verano'| 'St. Louis']|\n",
      "|       0| '1906 Verano'| '1906'| 'Verano'|    'Athina']|\n",
      "+--------+--------------+-------+---------+-------------+\n",
      "only showing top 4 rows\n",
      "\n"
     ]
    }
   ],
   "source": [
    "#ver datos de juego\n",
    "#Take: Muetra los datos de forma ordinaria\n",
    "#Show: Muestra los datos de forma estética\n",
    "juegoDF.show(4)"
   ]
  },
  {
   "cell_type": "code",
   "execution_count": 10,
   "id": "331e4b35",
   "metadata": {},
   "outputs": [
    {
     "data": {
      "text/html": [
       "\n",
       "        <div>\n",
       "            <p><b>SparkContext</b></p>\n",
       "\n",
       "            <p><a href=\"http://DESKTOP-IG1P5QG:4040\">Spark UI</a></p>\n",
       "\n",
       "            <dl>\n",
       "              <dt>Version</dt>\n",
       "                <dd><code>v3.2.1</code></dd>\n",
       "              <dt>Master</dt>\n",
       "                <dd><code>local</code></dd>\n",
       "              <dt>AppName</dt>\n",
       "                <dd><code>DataFrames</code></dd>\n",
       "            </dl>\n",
       "        </div>\n",
       "        "
      ],
      "text/plain": [
       "<SparkContext master=local appName=DataFrames>"
      ]
     },
     "execution_count": 10,
     "metadata": {},
     "output_type": "execute_result"
    }
   ],
   "source": [
    "sc"
   ]
  },
  {
   "cell_type": "code",
   "execution_count": null,
   "id": "bb4ce71b",
   "metadata": {},
   "outputs": [],
   "source": []
  }
 ],
 "metadata": {
  "kernelspec": {
   "display_name": "Python 3 (ipykernel)",
   "language": "python",
   "name": "python3"
  },
  "language_info": {
   "codemirror_mode": {
    "name": "ipython",
    "version": 3
   },
   "file_extension": ".py",
   "mimetype": "text/x-python",
   "name": "python",
   "nbconvert_exporter": "python",
   "pygments_lexer": "ipython3",
   "version": "3.9.13"
  }
 },
 "nbformat": 4,
 "nbformat_minor": 5
}
