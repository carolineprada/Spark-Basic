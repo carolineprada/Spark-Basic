{
 "cells": [
  {
   "cell_type": "code",
   "execution_count": 1,
   "id": "c0d958d4",
   "metadata": {},
   "outputs": [],
   "source": [
    "#Importar\n",
    "from pyspark.sql import SparkSession\n",
    "\n",
    "#Crea la sesión\n",
    "spark = SparkSession.builder.appName(\"Particionado\")\\\n",
    "        .master(\"local[5]\").getOrCreate()"
   ]
  },
  {
   "cell_type": "code",
   "execution_count": 2,
   "id": "ae4383ad",
   "metadata": {},
   "outputs": [
    {
     "data": {
      "text/plain": [
       "5"
      ]
     },
     "execution_count": 2,
     "metadata": {},
     "output_type": "execute_result"
    }
   ],
   "source": [
    "#Crea DataFrame\n",
    "df = spark.range(0,20)\n",
    "df.rdd.getNumPartitions()"
   ]
  },
  {
   "cell_type": "code",
   "execution_count": 4,
   "id": "6bdf1edc",
   "metadata": {},
   "outputs": [
    {
     "data": {
      "text/plain": [
       "10"
      ]
     },
     "execution_count": 4,
     "metadata": {},
     "output_type": "execute_result"
    }
   ],
   "source": [
    "#Crar RDD con particiones ingresadas\n",
    "rddl = spark.sparkContext.parallelize((0,20),10)\n",
    "rddl.getNumPartitions()"
   ]
  },
  {
   "cell_type": "code",
   "execution_count": 5,
   "id": "2b8949c2",
   "metadata": {},
   "outputs": [],
   "source": [
    "#Ejemplo con datos de archivo\n",
    "rddArchivo = spark \\\n",
    "             .sparkContext \\\n",
    "             .textFile( \"C:/Users/Caroline/Videos/curso-apache-spark-platzi/files/deporte.csv\", 10)"
   ]
  },
  {
   "cell_type": "code",
   "execution_count": 6,
   "id": "352d005b",
   "metadata": {},
   "outputs": [
    {
     "data": {
      "text/plain": [
       "10"
      ]
     },
     "execution_count": 6,
     "metadata": {},
     "output_type": "execute_result"
    }
   ],
   "source": [
    "#Verificar la cantidad de particiones\n",
    "rddArchivo.getNumPartitions()"
   ]
  },
  {
   "cell_type": "code",
   "execution_count": null,
   "id": "95eeb046",
   "metadata": {},
   "outputs": [],
   "source": [
    "#Descargar el RDD\n",
    "rddArchivo.saveAsTextFile( \"C:/Users/Caroline/Videos/curso-apache-spark-platzi/desc/\")"
   ]
  },
  {
   "cell_type": "code",
   "execution_count": null,
   "id": "ff5ba0cf",
   "metadata": {},
   "outputs": [],
   "source": [
    "#Cargar Datos generados\n",
    "#El * es una muletilla para indicar todo\n",
    "rdd = spark.sparkContext.wholeTextFiles(\"C:/Users/Caroline/Videos/curso-apache-spark-platzi/desc/*\")"
   ]
  },
  {
   "cell_type": "code",
   "execution_count": null,
   "id": "b37bf53c",
   "metadata": {},
   "outputs": [],
   "source": [
    "#Crear un lista con todos los RDD\n",
    "lista = rdd.mapValues(lambda x : x.split()).collect()"
   ]
  },
  {
   "cell_type": "code",
   "execution_count": null,
   "id": "b7d331e0",
   "metadata": {},
   "outputs": [],
   "source": [
    "#Compresión de la lista\n",
    "#1. Iteración\n",
    "lista = [l[0] for l in lista]\n",
    "lista.sort()"
   ]
  },
  {
   "cell_type": "code",
   "execution_count": null,
   "id": "f02986b6",
   "metadata": {},
   "outputs": [],
   "source": [
    "#Crear un nuevo RDD\n",
    "rdd2 = spark \\\n",
    "      .sparkContext \\\n",
    "      .textFile( ','.join(lista),10 ).map(lambda l : l.split(\",\"))"
   ]
  },
  {
   "cell_type": "code",
   "execution_count": null,
   "id": "ae8a9223",
   "metadata": {},
   "outputs": [],
   "source": [
    "#Ver valores de un DataFrame\n",
    "rdd2.take(5)"
   ]
  }
 ],
 "metadata": {
  "kernelspec": {
   "display_name": "Python 3 (ipykernel)",
   "language": "python",
   "name": "python3"
  },
  "language_info": {
   "codemirror_mode": {
    "name": "ipython",
    "version": 3
   },
   "file_extension": ".py",
   "mimetype": "text/x-python",
   "name": "python",
   "nbconvert_exporter": "python",
   "pygments_lexer": "ipython3",
   "version": "3.9.13"
  }
 },
 "nbformat": 4,
 "nbformat_minor": 5
}
