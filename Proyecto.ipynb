{
 "cells": [
  {
   "cell_type": "code",
   "execution_count": 1,
   "id": "6379b578",
   "metadata": {},
   "outputs": [],
   "source": [
    "import findspark\n",
    "findspark.init()\n",
    "\n",
    "from pyspark import SparkContext\n",
    "#Objetos que dan formato al dataframe\n",
    "from pyspark.sql.types import StructType, StructField\n",
    "from pyspark.sql.types import IntegerType, StringType, FloatType\n",
    "from pyspark.sql.types import Row\n",
    "from pyspark.sql import SQLContext\n",
    "\n",
    "#Mala práctica hacer Import *\n",
    "import pyspark.sql.functions\n",
    "from pyspark.sql.functions import count\n",
    "from pyspark.sql import SparkSession"
   ]
  },
  {
   "cell_type": "code",
   "execution_count": 2,
   "id": "09450db3",
   "metadata": {},
   "outputs": [],
   "source": [
    "sc = SparkContext(master=\"local\", appName=\"proyecto\")"
   ]
  },
  {
   "cell_type": "code",
   "execution_count": 3,
   "id": "9dcb70e2",
   "metadata": {},
   "outputs": [],
   "source": [
    "# Create SparkSession\n",
    "spark = SparkSession.builder \\\n",
    "          .getOrCreate()"
   ]
  },
  {
   "cell_type": "code",
   "execution_count": 4,
   "id": "e9fdf2e2",
   "metadata": {},
   "outputs": [
    {
     "name": "stderr",
     "output_type": "stream",
     "text": [
      "A:\\Instal_python\\lib\\site-packages\\pyspark\\sql\\context.py:77: FutureWarning: Deprecated in 3.0.0. Use SparkSession.builder.getOrCreate() instead.\n",
      "  warnings.warn(\n"
     ]
    }
   ],
   "source": [
    "#Se llama\n",
    "sqlContext = SQLContext(sc)"
   ]
  },
  {
   "cell_type": "code",
   "execution_count": 5,
   "id": "c6b761e7",
   "metadata": {},
   "outputs": [],
   "source": [
    "var = \"C:/Users/Caroline/Videos/curso-apache-spark-platzi/files/\"\n",
    "\n",
    "depteRDD = sc.textFile(var+\"deporte.csv\").map(lambda line : line.split(\",\"))\n",
    "deptaRDD = sc.textFile(var+\"deportista.csv\").map(lambda line : line.split(\",\"))\n",
    "evenRDD  = sc.textFile(var+\"evento.csv\").map(lambda line : line.split(\";\"))\n",
    "juegRDD  = sc.textFile(var+\"juegos.csv\").map(lambda line : line.split(\",\"))\n",
    "equiRDD  = sc.textFile(var+\"paises.csv\").map(lambda line : line.split(\",\"))\n",
    "resulRDD = sc.textFile(var+\"resultados.csv\").map(lambda line : line.split(\";\"))"
   ]
  },
  {
   "cell_type": "code",
   "execution_count": 6,
   "id": "30f7a59f",
   "metadata": {},
   "outputs": [],
   "source": [
    "#Función para validar el encabezado\n",
    "#Iter: Devuelve valor a valor lo que se está procesando\n",
    "def deletHeader(indice, interador):\n",
    "    return iter(list(interador)[1:])"
   ]
  },
  {
   "cell_type": "code",
   "execution_count": 7,
   "id": "6cf803c5",
   "metadata": {},
   "outputs": [],
   "source": [
    "#Eliminar el encabezado\n",
    "depteRDD = depteRDD.mapPartitionsWithIndex(deletHeader) #Deporte\n",
    "deptaRDD = deptaRDD.mapPartitionsWithIndex(deletHeader) #Deportista\n",
    "evenRDD = evenRDD.mapPartitionsWithIndex(deletHeader) #Evento\n",
    "juegRDD = juegRDD.mapPartitionsWithIndex(deletHeader) #Juegos\n",
    "equiRDD = equiRDD.mapPartitionsWithIndex(deletHeader) #Equipo\n",
    "resulRDD = resulRDD.mapPartitionsWithIndex(deletHeader) #Resultados"
   ]
  },
  {
   "cell_type": "code",
   "execution_count": 8,
   "id": "089963ec",
   "metadata": {},
   "outputs": [],
   "source": [
    "#Antes de Tramsformar los datos del RDD, se debe transformar el tipo de dato\n",
    "#Deporte\n",
    "depteRDD = depteRDD.map(lambda l: (\n",
    "int(l[0]),\n",
    "l[1]\n",
    "))\n",
    "\n",
    "\n",
    "#Deportista\n",
    "deptaRDD = deptaRDD.map(lambda l: (\n",
    "int(l[0]),\n",
    "l[1],    \n",
    "int(l[2]),\n",
    "int(l[3]),\n",
    "float(l[4]),\n",
    "float(l[5]),\n",
    "int(l[6])\n",
    "))\n",
    "\n",
    "\n",
    "#Evento\n",
    "evenRDD = evenRDD.map(lambda l: (\n",
    "int(l[0]),\n",
    "l[1],    \n",
    "int(l[2])\n",
    "))\n",
    "\n",
    "#Juego\n",
    "juegRDD = juegRDD.map(lambda l: (\n",
    "int(l[0]),\n",
    "l[1],    \n",
    "int(l[2]),\n",
    "l[3],\n",
    "l[4]\n",
    "))\n",
    "\n",
    "\n",
    "#Equipos\n",
    "equiRDD = equiRDD.map(lambda l: (\n",
    "int(l[0]),\n",
    "l[1],\n",
    "l[2]\n",
    "))\n",
    "\n",
    "\n",
    "#Resultados\n",
    "resulRDD = resulRDD.map(lambda l: (\n",
    "int(l[0]),\n",
    "l[1],\n",
    "int(l[2]),\n",
    "int(l[3]),\n",
    "int(l[4])\n",
    "))\n",
    "\n"
   ]
  },
  {
   "cell_type": "code",
   "execution_count": 9,
   "id": "8997dabc",
   "metadata": {},
   "outputs": [],
   "source": [
    "#Se crear el Schema\n",
    "\n",
    "#Deporte\n",
    "depte = StructType([\n",
    "    StructField(\"deporte_id\", IntegerType(), False),\n",
    "    StructField(\"nombre_deporte\", StringType(), False)\n",
    "])\n",
    "\n",
    "\n",
    "#Deportista\n",
    "depta = StructType([\n",
    "    StructField(\"deportista_id\", IntegerType(), False),\n",
    "    StructField(\"nombre_deportista\", StringType(), False),\n",
    "    StructField(\"genero\", IntegerType(), False),\n",
    "    StructField(\"edad\", IntegerType(), False),\n",
    "    StructField(\"altura\", FloatType(), False),\n",
    "    StructField(\"peso\", FloatType(), False),\n",
    "    StructField(\"equipo_id\", IntegerType(), False)\n",
    "])\n",
    "\n",
    "\n",
    "#Evento\n",
    "even = StructType([\n",
    "    StructField(\"evento_id\", IntegerType(), False),\n",
    "    StructField(\"nombre_evento\", StringType(), False),\n",
    "    StructField(\"deporte_id\", IntegerType(), False)\n",
    "])\n",
    "\n",
    "\n",
    "#Juego\n",
    "jueg = StructType([\n",
    "    StructField(\"juego_id\", IntegerType(), False),\n",
    "    StructField(\"nombre_juego\", StringType(), False),\n",
    "    StructField(\"annio\", IntegerType(), False),\n",
    "    StructField(\"temporada\", StringType(), False),\n",
    "    StructField(\"ciudad\", StringType(), False)    \n",
    "])\n",
    "\n",
    "\n",
    "#Equipos\n",
    "equi = StructType([\n",
    "    StructField(\"equipo_id\", IntegerType(), False),\n",
    "    StructField(\"nombre_equipo\", StringType(), False),\n",
    "    StructField(\"sigla\", StringType(), False)\n",
    "])\n",
    "\n",
    "\n",
    "\n",
    "#Resultados\n",
    "resul = StructType([\n",
    "    StructField(\"resultado_id\", IntegerType(), False),\n",
    "    StructField(\"medalla\", StringType(), False),\n",
    "    StructField(\"deportista_id\", IntegerType(), False),\n",
    "    StructField(\"juego_id\", IntegerType(), False),\n",
    "    StructField(\"evento_id\", IntegerType(), False)\n",
    "])\n"
   ]
  },
  {
   "cell_type": "code",
   "execution_count": 10,
   "id": "b81843e8",
   "metadata": {},
   "outputs": [],
   "source": [
    "#Aplicar el esquema al RDD\n",
    "\n",
    "#Deporte\n",
    "depteDF = sqlContext.createDataFrame(depteRDD, depte)\n",
    "\n",
    "#Deportista\n",
    "deptaDF = sqlContext.createDataFrame(deptaRDD, depta)\n",
    "\n",
    "#Evento\n",
    "evenDF = sqlContext.createDataFrame(evenRDD, even)\n",
    "\n",
    "#Juego\n",
    "juegDF = sqlContext.createDataFrame(juegRDD, jueg)\n",
    "\n",
    "#Equipo\n",
    "equiDF = sqlContext.createDataFrame(equiRDD, equi)\n",
    "\n",
    "#Resultados\n",
    "resulDF = sqlContext.createDataFrame(resulRDD, resul)"
   ]
  },
  {
   "cell_type": "code",
   "execution_count": 11,
   "id": "121bbd31",
   "metadata": {},
   "outputs": [
    {
     "name": "stdout",
     "output_type": "stream",
     "text": [
      "root\n",
      " |-- evento_id: integer (nullable = false)\n",
      " |-- nombre_evento: string (nullable = false)\n",
      " |-- deporte_id: integer (nullable = false)\n",
      "\n"
     ]
    }
   ],
   "source": [
    "#Mostrar esquema\n",
    "evenDF.printSchema()"
   ]
  },
  {
   "cell_type": "code",
   "execution_count": null,
   "id": "d2672481",
   "metadata": {},
   "outputs": [],
   "source": [
    "#Mostrar esquema\n",
    "resulDF.printSchema()"
   ]
  },
  {
   "cell_type": "code",
   "execution_count": null,
   "id": "9e7feb14",
   "metadata": {},
   "outputs": [],
   "source": [
    "#Función para eliminar nulos\n",
    "#prueb = resulDF.fillna({'resultado_id':-1, 'evento_id': 1})\n",
    "#resulDF.filter((resulDF.resultado_id == 34007))\n",
    "#df.fillna({'Id': -1, 'Nombre': 'Desconocido'}).show()"
   ]
  },
  {
   "cell_type": "code",
   "execution_count": 12,
   "id": "0dcc6ab8",
   "metadata": {},
   "outputs": [],
   "source": [
    "#Prueba de JOINS\n",
    "prueb = deptaDF.join(equiDF, deptaDF.equipo_id == equiDF.equipo_id, \"inner\")\\\n",
    "               .join(resulDF, deptaDF.deportista_id == resulDF.deportista_id, \"inner\")\\\n",
    "               .join(juegDF, resulDF.juego_id == juegDF.juego_id, \"left\")\\\n",
    "               .join(evenDF, resulDF.evento_id == evenDF.evento_id, \"left\")\\\n",
    "               .join(depteDF, evenDF.deporte_id == depteDF.deporte_id, \"left\")\\\n",
    "               .filter(resulDF.medalla != \"NA\")\\\n",
    "               .select(equiDF.nombre_equipo, resulDF.medalla)"
   ]
  },
  {
   "cell_type": "code",
   "execution_count": 13,
   "id": "a421fe98",
   "metadata": {},
   "outputs": [],
   "source": [
    "prueb.createOrReplaceTempView(\"EMP\")"
   ]
  },
  {
   "cell_type": "code",
   "execution_count": 18,
   "id": "7836299f",
   "metadata": {},
   "outputs": [
    {
     "name": "stdout",
     "output_type": "stream",
     "text": [
      "+-------------+------+\n",
      "|nombre_equipo|cuenta|\n",
      "+-------------+------+\n",
      "|United States|  2753|\n",
      "| Soviet Union|  1210|\n",
      "|      Germany|   969|\n",
      "|       France|   923|\n",
      "|Great Britain|   885|\n",
      "|        Italy|   754|\n",
      "|       Sweden|   734|\n",
      "|    Australia|   661|\n",
      "|       Canada|   644|\n",
      "|      Hungary|   609|\n",
      "+-------------+------+\n",
      "only showing top 10 rows\n",
      "\n"
     ]
    }
   ],
   "source": [
    "#top 10 de los equipos con más medallas\n",
    "spark.sql(\"SELECT nombre_equipo, COUNT(*) as cuenta FROM EMP GROUP BY nombre_equipo ORDER BY 2 DESC\").show(10)"
   ]
  },
  {
   "cell_type": "code",
   "execution_count": 19,
   "id": "4ebf2720",
   "metadata": {},
   "outputs": [
    {
     "name": "stdout",
     "output_type": "stream",
     "text": [
      "+--------------------+------+\n",
      "|       nombre_equipo|cuenta|\n",
      "+--------------------+------+\n",
      "|     United States-4|     1|\n",
      "|              Mutafo|     1|\n",
      "|               Bonzo|     1|\n",
      "|        Hurlingham-2|     1|\n",
      "|                 Tip|     1|\n",
      "|           Gyrinus-1|     1|\n",
      "|United States Vir...|     1|\n",
      "|          Complex II|     1|\n",
      "|               Tango|     1|\n",
      "|              Guyana|     1|\n",
      "+--------------------+------+\n",
      "only showing top 10 rows\n",
      "\n"
     ]
    }
   ],
   "source": [
    "#top 10 de los equipos con menos medallas\n",
    "spark.sql(\"SELECT nombre_equipo, COUNT(*) as cuenta FROM EMP GROUP BY nombre_equipo ORDER BY 2\").show(10)"
   ]
  },
  {
   "cell_type": "code",
   "execution_count": null,
   "id": "6a5396df",
   "metadata": {},
   "outputs": [],
   "source": []
  }
 ],
 "metadata": {
  "kernelspec": {
   "display_name": "Python 3 (ipykernel)",
   "language": "python",
   "name": "python3"
  },
  "language_info": {
   "codemirror_mode": {
    "name": "ipython",
    "version": 3
   },
   "file_extension": ".py",
   "mimetype": "text/x-python",
   "name": "python",
   "nbconvert_exporter": "python",
   "pygments_lexer": "ipython3",
   "version": "3.9.13"
  }
 },
 "nbformat": 4,
 "nbformat_minor": 5
}
