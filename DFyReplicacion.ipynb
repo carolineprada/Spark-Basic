{
 "cells": [
  {
   "cell_type": "code",
   "execution_count": 1,
   "id": "25942b0a",
   "metadata": {},
   "outputs": [],
   "source": [
    "import findspark\n",
    "findspark.init()\n",
    "\n",
    "from pyspark import SparkContext\n",
    "#Objetos que dan formato al dataframe\n",
    "from pyspark.sql.types import StructType, StructField\n",
    "from pyspark.sql.types import IntegerType, StringType, FloatType\n",
    "from pyspark.sql.types import Row\n",
    "from pyspark.sql import SQLContext\n",
    "\n",
    "#Mala práctica hacer Import *\n",
    "import pyspark.sql.functions\n",
    "from pyspark.sql.functions import count\n",
    "from pyspark.sql import SparkSession\n",
    "\n",
    "#Objetos para Particionar\n",
    "from pyspark.storagelevel import StorageLevel"
   ]
  },
  {
   "cell_type": "code",
   "execution_count": 2,
   "id": "b3681f0b",
   "metadata": {},
   "outputs": [],
   "source": [
    "sc = SparkContext(master=\"local\", appName=\"particionado\")"
   ]
  },
  {
   "cell_type": "code",
   "execution_count": 3,
   "id": "bdaa29ee",
   "metadata": {},
   "outputs": [
    {
     "name": "stderr",
     "output_type": "stream",
     "text": [
      "A:\\Instal_python\\lib\\site-packages\\pyspark\\sql\\context.py:77: FutureWarning: Deprecated in 3.0.0. Use SparkSession.builder.getOrCreate() instead.\n",
      "  warnings.warn(\n"
     ]
    }
   ],
   "source": [
    "#Se llama\n",
    "sqlContext = SQLContext(sc)"
   ]
  },
  {
   "cell_type": "code",
   "execution_count": 4,
   "id": "b8a8bef8",
   "metadata": {},
   "outputs": [],
   "source": [
    "var = \"C:/Users/Caroline/Videos/curso-apache-spark-platzi/files/\"\n",
    "\n",
    "depteRDD = sc.textFile(var+\"deporte.csv\").map(lambda line : line.split(\",\"))"
   ]
  },
  {
   "cell_type": "code",
   "execution_count": 5,
   "id": "d910be50",
   "metadata": {},
   "outputs": [],
   "source": [
    "#Función para validar el encabezado\n",
    "#Iter: Devuelve valor a valor lo que se está procesando\n",
    "def deletHeader(indice, interador):\n",
    "    return iter(list(interador)[1:])"
   ]
  },
  {
   "cell_type": "code",
   "execution_count": 6,
   "id": "b0bc4067",
   "metadata": {},
   "outputs": [],
   "source": [
    "#Eliminar el encabezado\n",
    "depteRDD = depteRDD.mapPartitionsWithIndex(deletHeader) #Deporte"
   ]
  },
  {
   "cell_type": "code",
   "execution_count": 7,
   "id": "732a60b8",
   "metadata": {},
   "outputs": [],
   "source": [
    "#Antes de Tramsformar los datos del RDD, se debe transformar el tipo de dato\n",
    "#Deporte\n",
    "depteRDD = depteRDD.map(lambda l: (\n",
    "int(l[0]),\n",
    "l[1]\n",
    "))\n",
    "\n",
    "#Se crear el Schema\n",
    "\n",
    "#Deporte\n",
    "depte = StructType([\n",
    "    StructField(\"deporte_id\", IntegerType(), False),\n",
    "    StructField(\"nombre_deporte\", StringType(), False)\n",
    "])"
   ]
  },
  {
   "cell_type": "code",
   "execution_count": 8,
   "id": "bce9350d",
   "metadata": {},
   "outputs": [],
   "source": [
    "#Aplicar el esquema al RDD\n",
    "\n",
    "#Deporte\n",
    "depteDF = sqlContext.createDataFrame(depteRDD, depte)"
   ]
  },
  {
   "cell_type": "code",
   "execution_count": 9,
   "id": "fa06baf4",
   "metadata": {},
   "outputs": [
    {
     "name": "stdout",
     "output_type": "stream",
     "text": [
      "+----------+--------------+\n",
      "|deporte_id|nombre_deporte|\n",
      "+----------+--------------+\n",
      "|         1|    Basketball|\n",
      "|         2|          Judo|\n",
      "|         3|      Football|\n",
      "|         4|    Tug-Of-War|\n",
      "|         5| Speed Skating|\n",
      "+----------+--------------+\n",
      "only showing top 5 rows\n",
      "\n"
     ]
    }
   ],
   "source": [
    "depteDF.show(5)"
   ]
  },
  {
   "cell_type": "code",
   "execution_count": 10,
   "id": "f8ac5916",
   "metadata": {},
   "outputs": [
    {
     "data": {
      "text/plain": [
       "False"
      ]
     },
     "execution_count": 10,
     "metadata": {},
     "output_type": "execute_result"
    }
   ],
   "source": [
    "depteDF.is_cached"
   ]
  },
  {
   "cell_type": "code",
   "execution_count": 11,
   "id": "ef3e8637",
   "metadata": {},
   "outputs": [
    {
     "data": {
      "text/plain": [
       "MapPartitionsRDD[11] at javaToPython at NativeMethodAccessorImpl.java:0"
      ]
     },
     "execution_count": 11,
     "metadata": {},
     "output_type": "execute_result"
    }
   ],
   "source": [
    "#Para almacenar el RDD en cache y reducir los tiempos de consulta,\n",
    "#ya que al no estar almacenado Spark debe revivir el RDD y esto\n",
    "#toma más tiempo\n",
    "depteDF.rdd.cache()"
   ]
  },
  {
   "cell_type": "code",
   "execution_count": 12,
   "id": "8c23f0f2",
   "metadata": {},
   "outputs": [
    {
     "data": {
      "text/plain": [
       "StorageLevel(False, True, False, False, 1)"
      ]
     },
     "execution_count": 12,
     "metadata": {},
     "output_type": "execute_result"
    }
   ],
   "source": [
    "#Verificar el tipo de persistencia\n",
    "depteDF.rdd.getStorageLevel()"
   ]
  },
  {
   "attachments": {},
   "cell_type": "markdown",
   "id": "9fcabc46",
   "metadata": {},
   "source": [
    "#StorageLevel(False, True, False, False, 1) --> Esta salida lo que indica es\n",
    "#la forma de persistencia \n",
    "#se recomienda que la replicación sea a partir de 3, ya que de esta forma la probabilidad de perder los datos es más baja\n",
    "\n",
    "\n",
    "https://spark.apache.org/docs/latest/api/python/reference/api/pyspark.StorageLevel.html#pyspark.StorageLevel"
   ]
  },
  {
   "cell_type": "code",
   "execution_count": 13,
   "id": "2a967b75",
   "metadata": {},
   "outputs": [
    {
     "data": {
      "text/plain": [
       "MapPartitionsRDD[11] at javaToPython at NativeMethodAccessorImpl.java:0"
      ]
     },
     "execution_count": 13,
     "metadata": {},
     "output_type": "execute_result"
    }
   ],
   "source": [
    "#Dar de baja a la persistencia del cache\n",
    "depteDF.rdd.unpersist()"
   ]
  },
  {
   "cell_type": "code",
   "execution_count": 14,
   "id": "51b1411d",
   "metadata": {},
   "outputs": [
    {
     "data": {
      "text/plain": [
       "MapPartitionsRDD[11] at javaToPython at NativeMethodAccessorImpl.java:0"
      ]
     },
     "execution_count": 14,
     "metadata": {},
     "output_type": "execute_result"
    }
   ],
   "source": [
    "#Aplicar una persistencia\n",
    "depteDF.rdd.persist(StorageLevel.MEMORY_AND_DISK_2)"
   ]
  },
  {
   "cell_type": "code",
   "execution_count": 15,
   "id": "12750629",
   "metadata": {},
   "outputs": [
    {
     "data": {
      "text/plain": [
       "StorageLevel(True, True, False, False, 2)"
      ]
     },
     "execution_count": 15,
     "metadata": {},
     "output_type": "execute_result"
    }
   ],
   "source": [
    "#Verificar el tipo de persistencia\n",
    "depteDF.rdd.getStorageLevel()"
   ]
  },
  {
   "cell_type": "code",
   "execution_count": 16,
   "id": "c785aa6c",
   "metadata": {},
   "outputs": [],
   "source": [
    "#Crear el propio particionado\n",
    "StorageLevel.MEMORY_AND_DISK_3 = StorageLevel(True, True, False, False, 3)"
   ]
  },
  {
   "cell_type": "code",
   "execution_count": 17,
   "id": "17e125ec",
   "metadata": {},
   "outputs": [
    {
     "data": {
      "text/plain": [
       "MapPartitionsRDD[11] at javaToPython at NativeMethodAccessorImpl.java:0"
      ]
     },
     "execution_count": 17,
     "metadata": {},
     "output_type": "execute_result"
    }
   ],
   "source": [
    "#Dar de baja a la persistencia del cache - 2\n",
    "depteDF.rdd.unpersist()"
   ]
  },
  {
   "cell_type": "code",
   "execution_count": 18,
   "id": "621860cd",
   "metadata": {},
   "outputs": [
    {
     "data": {
      "text/plain": [
       "MapPartitionsRDD[11] at javaToPython at NativeMethodAccessorImpl.java:0"
      ]
     },
     "execution_count": 18,
     "metadata": {},
     "output_type": "execute_result"
    }
   ],
   "source": [
    "#Aplicar una persistencia\n",
    "depteDF.rdd.persist(StorageLevel.MEMORY_AND_DISK_3)"
   ]
  },
  {
   "cell_type": "code",
   "execution_count": 19,
   "id": "7b624e6e",
   "metadata": {},
   "outputs": [
    {
     "data": {
      "text/plain": [
       "StorageLevel(True, True, False, False, 3)"
      ]
     },
     "execution_count": 19,
     "metadata": {},
     "output_type": "execute_result"
    }
   ],
   "source": [
    "#Verificar el tipo de persistencia\n",
    "depteDF.rdd.getStorageLevel()"
   ]
  },
  {
   "cell_type": "code",
   "execution_count": 20,
   "id": "07a0d950",
   "metadata": {},
   "outputs": [
    {
     "data": {
      "text/plain": [
       "MapPartitionsRDD[11] at javaToPython at NativeMethodAccessorImpl.java:0"
      ]
     },
     "execution_count": 20,
     "metadata": {},
     "output_type": "execute_result"
    }
   ],
   "source": [
    "depteDF.rdd.unpersist()"
   ]
  },
  {
   "cell_type": "code",
   "execution_count": null,
   "id": "b9a8e0fd",
   "metadata": {},
   "outputs": [],
   "source": []
  }
 ],
 "metadata": {
  "kernelspec": {
   "display_name": "Python 3 (ipykernel)",
   "language": "python",
   "name": "python3"
  },
  "language_info": {
   "codemirror_mode": {
    "name": "ipython",
    "version": 3
   },
   "file_extension": ".py",
   "mimetype": "text/x-python",
   "name": "python",
   "nbconvert_exporter": "python",
   "pygments_lexer": "ipython3",
   "version": "3.9.13"
  }
 },
 "nbformat": 4,
 "nbformat_minor": 5
}
