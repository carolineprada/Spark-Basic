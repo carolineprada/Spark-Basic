{
 "cells": [
  {
   "cell_type": "code",
   "execution_count": null,
   "id": "0bda2697",
   "metadata": {},
   "outputs": [],
   "source": [
    "import findspark\n",
    "findspark.init()\n",
    "\n",
    "from pyspark import SparkContext\n",
    "#Objetos que dan formato al dataframe\n",
    "from pyspark.sql.types import StructType, StructField\n",
    "from pyspark.sql.types import IntegerType, StringType, FloatType\n",
    "from pyspark.sql.types import Row\n",
    "from pyspark.sql import SQLContext\n",
    "\n",
    "#Mala práctica hacer Import *\n",
    "import pyspark.sql.functions"
   ]
  },
  {
   "cell_type": "code",
   "execution_count": null,
   "id": "bf3b2602",
   "metadata": {},
   "outputs": [],
   "source": [
    "sc = SparkContext(master=\"local\", appName=\"pruebasCP\")"
   ]
  },
  {
   "cell_type": "code",
   "execution_count": null,
   "id": "8d09dd58",
   "metadata": {},
   "outputs": [],
   "source": [
    "#Se llama\n",
    "sqlContext = SQLContext(sc)"
   ]
  },
  {
   "cell_type": "code",
   "execution_count": null,
   "id": "4c8fe5a2",
   "metadata": {},
   "outputs": [],
   "source": [
    "#Se genera una variable que contiene la ruta donde se encuentran los\n",
    "var = \"C:/Users/Caroline/Videos/curso-apache-spark-platzi/files/\"\n",
    "\n",
    "deptaRDD = sc.textFile(var+\"deportista.csv\").map(lambda line : line.split(\",\"))\n",
    "equiRDD  = sc.textFile(var+\"paises.csv\").map(lambda line : line.split(\",\"))"
   ]
  },
  {
   "cell_type": "code",
   "execution_count": null,
   "id": "1bd6565f",
   "metadata": {},
   "outputs": [],
   "source": [
    "#Función para validar el encabezado\n",
    "#Iter: Devuelve valor a valor lo que se está procesando\n",
    "def deletHeader(indice, interador):\n",
    "    return iter(list(interador)[1:])"
   ]
  },
  {
   "cell_type": "code",
   "execution_count": null,
   "id": "3daa92fb",
   "metadata": {},
   "outputs": [],
   "source": [
    "#Eliminar el encabezado\n",
    "deptaRDD = deptaRDD.mapPartitionsWithIndex(deletHeader) #Deportista\n",
    "equiRDD = equiRDD.mapPartitionsWithIndex(deletHeader) #Equipo"
   ]
  },
  {
   "cell_type": "code",
   "execution_count": null,
   "id": "5385ca14",
   "metadata": {},
   "outputs": [],
   "source": [
    "#Antes de Tramsformar los datos del RDD, se debe transformar el tipo de dato\n",
    "#Deportista\n",
    "deptaRDD = deptaRDD.map(lambda l: (\n",
    "l[0],\n",
    "l[1],    \n",
    "l[2],\n",
    "l[3],\n",
    "l[4],\n",
    "l[5],\n",
    "l[6]\n",
    "))\n",
    "\n",
    "\n",
    "#Equipos\n",
    "equiRDD = equiRDD.map(lambda l: (\n",
    "int(l[0]),\n",
    "l[1],\n",
    "l[2]\n",
    "))"
   ]
  },
  {
   "cell_type": "code",
   "execution_count": null,
   "id": "a8258c83",
   "metadata": {},
   "outputs": [],
   "source": [
    "#Se crear el Schema\n",
    "#Deportista\n",
    "depta = StructType([\n",
    "    StructField(\"deportista_id\", IntegerType(), False),\n",
    "    StructField(\"nombre_deportista\", StringType(), False),\n",
    "    StructField(\"genero\", IntegerType(), False),\n",
    "    StructField(\"edad\", IntegerType(), False),\n",
    "    StructField(\"altura\", FloatType(), False),\n",
    "    StructField(\"peso\", FloatType(), False),\n",
    "    StructField(\"equipo_id\", IntegerType(), False)\n",
    "])\n",
    "\n",
    "\n",
    "#Equipos\n",
    "equi = StructType([\n",
    "    StructField(\"equipo_id\", IntegerType(), False),\n",
    "    StructField(\"nombre_equipo\", StringType(), False),\n",
    "    StructField(\"sigla\", StringType(), False)\n",
    "])"
   ]
  },
  {
   "cell_type": "code",
   "execution_count": null,
   "id": "8d4f153d",
   "metadata": {},
   "outputs": [],
   "source": [
    "#Aplicar el esquema al RDD\n",
    "#Deportista\n",
    "deptaRDD = sqlContext.createDataFrame(deptaRDD, depta)\n",
    "\n",
    "#Equipo\n",
    "equiRDD = sqlContext.createDataFrame(equiRDD, equi)"
   ]
  },
  {
   "cell_type": "code",
   "execution_count": null,
   "id": "8849089f",
   "metadata": {},
   "outputs": [],
   "source": [
    "#Renombrar columnas y eliminar columnas\n",
    "#datRDD = datRDD.withColumnRenamed(\"annio\", \"anho\")"
   ]
  },
  {
   "cell_type": "code",
   "execution_count": null,
   "id": "9fdfc5ba",
   "metadata": {},
   "outputs": [],
   "source": [
    "#Mostrar esquema\n",
    "#datRDD.printSchema()"
   ]
  },
  {
   "cell_type": "code",
   "execution_count": null,
   "id": "08daf37b",
   "metadata": {},
   "outputs": [],
   "source": [
    "#Seleccionar sólo algunas columnas\n",
    "#Función col--> Genera una lista en vivo, contiene todas las columnas, \n",
    "#para realizar operaciones complejas\n",
    "#datRDD.select(\"id\", \"nombre_juego\", \"ciudad\")"
   ]
  },
  {
   "cell_type": "code",
   "execution_count": null,
   "id": "3928dba9",
   "metadata": {},
   "outputs": [],
   "source": [
    "#Filtros\n",
    "#datRDD = datRDD.filter((datRDD.anho > 1900))"
   ]
  },
  {
   "cell_type": "code",
   "execution_count": null,
   "id": "54404ddd",
   "metadata": {},
   "outputs": [],
   "source": [
    "#Mostrar datos\n",
    "#Deportista\n",
    "deptaRDD.show()"
   ]
  },
  {
   "cell_type": "code",
   "execution_count": null,
   "id": "3fe0d2f6",
   "metadata": {},
   "outputs": [],
   "source": [
    "#Mostrar datos\n",
    "#Equipo\n",
    "#Filtrar datos a visualizar\n",
    "#equiRDD.filter((equiRDD.equipo_id == 273)).show()\n",
    "equiRDD.show()"
   ]
  },
  {
   "cell_type": "code",
   "execution_count": null,
   "id": "6624a19e",
   "metadata": {},
   "outputs": [],
   "source": [
    "#Join entre tablas\n",
    "deptaRDD.join(\n",
    "    equiRDD, #Nombre de tabla del JOIN\n",
    "    deptaRDD.equipo_id == equiRDD.equipo_id, #Campos de relación\n",
    "    \"left\" #Tipo de JOIN\n",
    ").select(deptaRDD.nombre_deportista, deptaRDD.edad, equiRDD.sigla, equiRDD.nombre_equipo).filter((equiRDD.equipo_id == 273)).show()"
   ]
  },
  {
   "cell_type": "code",
   "execution_count": null,
   "id": "80cda8fc",
   "metadata": {},
   "outputs": [],
   "source": []
  }
 ],
 "metadata": {
  "kernelspec": {
   "display_name": "Python 3 (ipykernel)",
   "language": "python",
   "name": "python3"
  },
  "language_info": {
   "codemirror_mode": {
    "name": "ipython",
    "version": 3
   },
   "file_extension": ".py",
   "mimetype": "text/x-python",
   "name": "python",
   "nbconvert_exporter": "python",
   "pygments_lexer": "ipython3",
   "version": "3.9.13"
  }
 },
 "nbformat": 4,
 "nbformat_minor": 5
}
